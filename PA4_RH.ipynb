{
 "cells": [
  {
   "cell_type": "markdown",
   "id": "9c2cf3b7",
   "metadata": {},
   "source": [
    "# Working with Lists and Tuples\n",
    "### Radjamin Hukom\n",
    "##### Version 1 of CS150-01 Spring Semester"
   ]
  },
  {
   "cell_type": "code",
   "execution_count": null,
   "id": "9f1389d0",
   "metadata": {},
   "outputs": [],
   "source": [
    "append() adds an element to the end of a pre-defined list."
   ]
  },
  {
   "cell_type": "code",
   "execution_count": 32,
   "id": "1bdc6b8b",
   "metadata": {
    "scrolled": true
   },
   "outputs": [
    {
     "name": "stdout",
     "output_type": "stream",
     "text": [
      "[1, 2]\n",
      "[1, 2, 3]\n"
     ]
    }
   ],
   "source": [
    "l1=[1,2]\n",
    "print(l1)\n",
    "l1.append(3)\n",
    "print(l1)"
   ]
  },
  {
   "cell_type": "markdown",
   "id": "b45db09b",
   "metadata": {},
   "source": [
    "extend() adds a predefined list to another predefined list."
   ]
  },
  {
   "cell_type": "code",
   "execution_count": 33,
   "id": "b0bc376a",
   "metadata": {},
   "outputs": [
    {
     "name": "stdout",
     "output_type": "stream",
     "text": [
      "[1, 2, 3, 3, 2, 1]\n"
     ]
    }
   ],
   "source": [
    "l2=[3,2,1]\n",
    "l1.extend(l2)\n",
    "print(l1)"
   ]
  },
  {
   "cell_type": "markdown",
   "id": "ac1963ca",
   "metadata": {},
   "source": [
    "insert() adds an element to a predefined list at the specified index position."
   ]
  },
  {
   "cell_type": "code",
   "execution_count": 34,
   "id": "4d8f7130",
   "metadata": {},
   "outputs": [
    {
     "name": "stdout",
     "output_type": "stream",
     "text": [
      "[1, 2, 3, 4, 3, 2, 1]\n"
     ]
    }
   ],
   "source": [
    "l1.insert(3,4)\n",
    "print(l1)"
   ]
  },
  {
   "cell_type": "markdown",
   "id": "77f40d48",
   "metadata": {},
   "source": [
    "remove() deletes a specified element from a predefined lit."
   ]
  },
  {
   "cell_type": "code",
   "execution_count": 35,
   "id": "50882f18",
   "metadata": {},
   "outputs": [
    {
     "name": "stdout",
     "output_type": "stream",
     "text": [
      "[1, 2, 4, 2, 1]\n"
     ]
    }
   ],
   "source": [
    "l1.remove(3)\n",
    "l1.remove(3)\n",
    "print(l1)"
   ]
  },
  {
   "cell_type": "markdown",
   "id": "a47cf040",
   "metadata": {},
   "source": [
    "count() returns the number of a specified element inside a defined list. "
   ]
  },
  {
   "cell_type": "code",
   "execution_count": 36,
   "id": "cb012901",
   "metadata": {},
   "outputs": [
    {
     "data": {
      "text/plain": [
       "1"
      ]
     },
     "execution_count": 36,
     "metadata": {},
     "output_type": "execute_result"
    }
   ],
   "source": [
    "l1.count(4)"
   ]
  },
  {
   "cell_type": "markdown",
   "id": "4c31e92b",
   "metadata": {},
   "source": [
    "index() returns the index position of a specified element inside a defined list. "
   ]
  },
  {
   "cell_type": "code",
   "execution_count": 37,
   "id": "eb836dfa",
   "metadata": {},
   "outputs": [
    {
     "data": {
      "text/plain": [
       "2"
      ]
     },
     "execution_count": 37,
     "metadata": {},
     "output_type": "execute_result"
    }
   ],
   "source": [
    "l1.index(4)"
   ]
  },
  {
   "cell_type": "markdown",
   "id": "6e06f40e",
   "metadata": {},
   "source": [
    "pop() removes an element of a specified index number from a defined list."
   ]
  },
  {
   "cell_type": "code",
   "execution_count": 38,
   "id": "297927d2",
   "metadata": {},
   "outputs": [
    {
     "data": {
      "text/plain": [
       "[1, 2, 2, 1]"
      ]
     },
     "execution_count": 38,
     "metadata": {},
     "output_type": "execute_result"
    }
   ],
   "source": [
    "l1.pop(2)\n",
    "l1"
   ]
  },
  {
   "cell_type": "markdown",
   "id": "2954ebe7",
   "metadata": {},
   "source": [
    "sorted() temporarily arranges the element inside a defined list in order of smallest to greatest."
   ]
  },
  {
   "cell_type": "code",
   "execution_count": 39,
   "id": "0ae86c94",
   "metadata": {},
   "outputs": [
    {
     "name": "stdout",
     "output_type": "stream",
     "text": [
      "[1, 1, 2, 2]\n"
     ]
    },
    {
     "data": {
      "text/plain": [
       "[1, 2, 2, 1]"
      ]
     },
     "execution_count": 39,
     "metadata": {},
     "output_type": "execute_result"
    }
   ],
   "source": [
    "print(sorted(l1))\n",
    "l1"
   ]
  },
  {
   "cell_type": "markdown",
   "id": "40b2162d",
   "metadata": {},
   "source": [
    "copy() copies a list for another list"
   ]
  },
  {
   "cell_type": "code",
   "execution_count": 40,
   "id": "911560c8",
   "metadata": {},
   "outputs": [
    {
     "name": "stdout",
     "output_type": "stream",
     "text": [
      "[1, 2, 2, 1]\n"
     ]
    }
   ],
   "source": [
    "l3=l1.copy()\n",
    "print(l3)"
   ]
  },
  {
   "cell_type": "markdown",
   "id": "d282df9e",
   "metadata": {},
   "source": [
    "clear() clears the list of all its entries."
   ]
  },
  {
   "cell_type": "code",
   "execution_count": 41,
   "id": "0920762e",
   "metadata": {},
   "outputs": [
    {
     "name": "stdout",
     "output_type": "stream",
     "text": [
      "None\n"
     ]
    }
   ],
   "source": [
    "l3=l1.clear()\n",
    "print(l3)"
   ]
  },
  {
   "cell_type": "markdown",
   "id": "319a663b",
   "metadata": {},
   "source": [
    "list() creates a list object. \n"
   ]
  },
  {
   "cell_type": "code",
   "execution_count": 42,
   "id": "98fc42d1",
   "metadata": {},
   "outputs": [
    {
     "name": "stdout",
     "output_type": "stream",
     "text": [
      "[]\n"
     ]
    }
   ],
   "source": [
    "l3=list()\n",
    "print(l3)"
   ]
  },
  {
   "cell_type": "code",
   "execution_count": 43,
   "id": "c0a9c6dd",
   "metadata": {},
   "outputs": [
    {
     "data": {
      "text/plain": [
       "0"
      ]
     },
     "execution_count": 43,
     "metadata": {},
     "output_type": "execute_result"
    }
   ],
   "source": [
    "#len() checks the length of a specified list or element or object\n",
    "len(l3)"
   ]
  },
  {
   "cell_type": "code",
   "execution_count": 44,
   "id": "fe97d574",
   "metadata": {},
   "outputs": [
    {
     "name": "stdout",
     "output_type": "stream",
     "text": [
      "[3, 2, 1]\n"
     ]
    }
   ],
   "source": [
    "#max() returns the element with the largest value to python.\n",
    "x=max(tuple([l2]))\n",
    "print(x)"
   ]
  },
  {
   "cell_type": "code",
   "execution_count": 25,
   "id": "079d3c31",
   "metadata": {},
   "outputs": [
    {
     "name": "stdout",
     "output_type": "stream",
     "text": [
      "2\n"
     ]
    }
   ],
   "source": [
    "x=max(1,2,2,1)\n",
    "print(x)"
   ]
  },
  {
   "cell_type": "code",
   "execution_count": 46,
   "id": "e408c2a9",
   "metadata": {},
   "outputs": [
    {
     "name": "stdout",
     "output_type": "stream",
     "text": [
      "[3, 2, 1]\n"
     ]
    }
   ],
   "source": [
    "#min() returns the element with the smallest value to python.\n",
    "x=min([l2])\n",
    "print(x)"
   ]
  },
  {
   "cell_type": "code",
   "execution_count": 47,
   "id": "ce79a8fa",
   "metadata": {},
   "outputs": [
    {
     "name": "stdout",
     "output_type": "stream",
     "text": [
      "1\n"
     ]
    }
   ],
   "source": [
    "x=min(1,2,2,1)\n",
    "print(x)"
   ]
  },
  {
   "cell_type": "code",
   "execution_count": null,
   "id": "71f71e5c",
   "metadata": {},
   "outputs": [],
   "source": []
  }
 ],
 "metadata": {
  "kernelspec": {
   "display_name": "Python 3 (ipykernel)",
   "language": "python",
   "name": "python3"
  },
  "language_info": {
   "codemirror_mode": {
    "name": "ipython",
    "version": 3
   },
   "file_extension": ".py",
   "mimetype": "text/x-python",
   "name": "python",
   "nbconvert_exporter": "python",
   "pygments_lexer": "ipython3",
   "version": "3.9.13"
  }
 },
 "nbformat": 4,
 "nbformat_minor": 5
}
